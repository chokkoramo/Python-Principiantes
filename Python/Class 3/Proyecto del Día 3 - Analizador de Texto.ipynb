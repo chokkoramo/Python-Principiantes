{
 "cells": [
  {
   "cell_type": "markdown",
   "id": "9572445f",
   "metadata": {},
   "source": [
    "# Proyecto del Día 3: Analizador de Texto\n",
    "\n",
    "Este proyecto tiene como objetivo aplicar los conceptos aprendidos sobre strings, input, indexación y formateo de strings en Python. El programa permitirá al usuario ingresar un texto y luego elegir realizar diversas operaciones de análisis sobre ese texto.\n",
    "\n",
    "## Consigna\n",
    "Vas a crear un programa que le pida al usuario que ingrese un texto de al menos 10 palabras. Tu programa va a procesar ese texto, lo va a procesar, y le va a devolver un análisis detallado, que incluya:\n",
    "1. Contar el número total de caracteres en el texto\n",
    "2. Contar el número de caracteres sin incluir los espacios\n",
    "3. Contar la cantidad de vocales que hay en el texto\n",
    "4. Contar el número total de palabras en el texto ingresado\n",
    "\n",
    "**nota**: para resolver los siguientes items, deberás investigar otros métodos de strings que no hemos visto. Recuerda valerte de *type*, *dir* y *help*\n",
    "\n",
    "5. Eliminar la primera palabra\n",
    "6. Reemplazar todos los espacios por guiones medios (-)\n",
    "8. Cambia las mayúsculas a minúsculas y las minúsculas a mayúsculas \n",
    "\n",
    "Al finalizar el procesamiento, se imprimirán 8 cadenas literales mostrando los resultados del análisis (una cadena por cada resultado).\n",
    "<br>\n",
    "<br>\n",
    "<br>"
   ]
  },
  {
   "cell_type": "markdown",
   "id": "e5cd9e4d",
   "metadata": {},
   "source": [
    "### Resolución\n",
    "\n",
    "Ingreso del usuario:"
   ]
  },
  {
   "cell_type": "code",
   "execution_count": 45,
   "id": "fa27da8c",
   "metadata": {},
   "outputs": [],
   "source": [
    "nombreUsuario = input('Ingresa tu nombre: ')\n",
    "binvenida = f'Bienvenido/a {nombreUsuario}'\n",
    "binvenida\n",
    "\n",
    "textoBruto = input('Ingresa el texto: ')"
   ]
  },
  {
   "cell_type": "markdown",
   "id": "41214377",
   "metadata": {},
   "source": [
    "1. Contar el número total de caracteres en el texto"
   ]
  },
  {
   "cell_type": "code",
   "execution_count": 46,
   "id": "40448873",
   "metadata": {},
   "outputs": [
    {
     "data": {
      "text/plain": [
       "30"
      ]
     },
     "execution_count": 46,
     "metadata": {},
     "output_type": "execute_result"
    }
   ],
   "source": [
    "numCaracteres = len(textoBruto)\n",
    "numCaracteres"
   ]
  },
  {
   "cell_type": "markdown",
   "id": "3d6378dc",
   "metadata": {},
   "source": [
    "2. Contar el número de caracteres sin incluir los espacios"
   ]
  },
  {
   "cell_type": "code",
   "execution_count": 47,
   "id": "991b29c7",
   "metadata": {},
   "outputs": [
    {
     "data": {
      "text/plain": [
       "26"
      ]
     },
     "execution_count": 47,
     "metadata": {},
     "output_type": "execute_result"
    }
   ],
   "source": [
    "numCaracteres_sinEspacios = len(textoBruto.replace(' ', ''))\n",
    "numCaracteres_sinEspacios"
   ]
  },
  {
   "cell_type": "markdown",
   "id": "c6e62385",
   "metadata": {},
   "source": [
    "3. Contar la cantidad de vocales que hay en el texto"
   ]
  },
  {
   "cell_type": "code",
   "execution_count": 83,
   "id": "65b19bc7",
   "metadata": {},
   "outputs": [
    {
     "data": {
      "text/plain": [
       "9"
      ]
     },
     "execution_count": 83,
     "metadata": {},
     "output_type": "execute_result"
    }
   ],
   "source": [
    "num_a = textoBruto.count('a')\n",
    "num_e = textoBruto.count('e')\n",
    "num_i = textoBruto.count('i')\n",
    "num_o = textoBruto.count('o')\n",
    "num_u = textoBruto.count('u')\n",
    "\n",
    "numVocales = num_a + num_e + num_i + num_o + num_u\n",
    "numVocales\n"
   ]
  },
  {
   "cell_type": "markdown",
   "id": "4b6211c5",
   "metadata": {},
   "source": [
    "4. Contar el número total de palabras en el texto ingresado"
   ]
  },
  {
   "cell_type": "code",
   "execution_count": 64,
   "id": "5b6eb1b1",
   "metadata": {},
   "outputs": [
    {
     "data": {
      "text/plain": [
       "5"
      ]
     },
     "execution_count": 64,
     "metadata": {},
     "output_type": "execute_result"
    }
   ],
   "source": [
    "numTotalPalabras = textoBruto.split()\n",
    "numTotalPalabras = len(numTotalPalabras)\n",
    "numTotalPalabras"
   ]
  },
  {
   "cell_type": "markdown",
   "id": "bee5597e",
   "metadata": {},
   "source": [
    "5. Eliminar la primera palabra"
   ]
  },
  {
   "cell_type": "code",
   "execution_count": 76,
   "id": "8bcbfe9d",
   "metadata": {},
   "outputs": [
    {
     "data": {
      "text/plain": [
       "['sol', 'brilla', 'intensamente', 'hoy']"
      ]
     },
     "execution_count": 76,
     "metadata": {},
     "output_type": "execute_result"
    }
   ],
   "source": [
    "palabrasRestantes = textoBruto.split()\n",
    "\n",
    "eliminarPalabra = palabrasRestantes.pop(0)\n",
    "eliminarPalabra = len(eliminarPalabra)\n",
    "palabrasRestantes"
   ]
  },
  {
   "cell_type": "markdown",
   "id": "d5b05440",
   "metadata": {},
   "source": [
    "6. Reemplazar todos los espacios por guiones medios (-)"
   ]
  },
  {
   "cell_type": "code",
   "execution_count": 53,
   "id": "90a21e61",
   "metadata": {},
   "outputs": [
    {
     "data": {
      "text/plain": [
       "'El-sol-brilla-intensamente-hoy'"
      ]
     },
     "execution_count": 53,
     "metadata": {},
     "output_type": "execute_result"
    }
   ],
   "source": [
    "espaciosGuiones = textoBruto.replace(' ', '-')\n",
    "espaciosGuiones"
   ]
  },
  {
   "cell_type": "markdown",
   "id": "8a61c508",
   "metadata": {},
   "source": [
    "7. Cambia las mayúsculas a minúsculas y las minúsculas a mayúsculas"
   ]
  },
  {
   "cell_type": "code",
   "execution_count": 54,
   "id": "8cb35aaf",
   "metadata": {},
   "outputs": [
    {
     "data": {
      "text/plain": [
       "'eL SOL BRILLA INTENSAMENTE HOY'"
      ]
     },
     "execution_count": 54,
     "metadata": {},
     "output_type": "execute_result"
    }
   ],
   "source": [
    "switchLowerCaps = textoBruto.swapcase()\n",
    "switchLowerCaps"
   ]
  },
  {
   "cell_type": "markdown",
   "id": "66b8d816",
   "metadata": {},
   "source": [
    "Muéstrale al usuario los resultados del análisis de su texto."
   ]
  },
  {
   "cell_type": "code",
   "execution_count": 85,
   "id": "eb0d449a",
   "metadata": {},
   "outputs": [
    {
     "name": "stdout",
     "output_type": "stream",
     "text": [
      "⁕ Hola Laura, este es un anilizador de texto ⁕\n",
      "    Este fue tu texto ingresado: \n",
      "  \"El sol brilla intensamente hoy\"\n",
      "- - - - - - - - - - - - - - - - - - - - - -\n",
      "\n",
      "Numero total de caracteres: 30\n",
      "Numero de caracteres sin contar los espacios: 26\n",
      "Numero de vocales: 9\n",
      "\n",
      "Numero de palabras: 5\n",
      "Eliminando la primera palabra: \n",
      "['sol', 'brilla', 'intensamente', 'hoy']\n",
      "\n",
      "Espacios reemplazados por guines(-): \n",
      "\"El-sol-brilla-intensamente-hoy\"\n",
      "\n",
      "Intercambiar mayusculas por minusculas: \n",
      "\"eL SOL BRILLA INTENSAMENTE HOY\"\n",
      "\n",
      "Muchas gracias por usar nuestra aplicacion!!\n"
     ]
    }
   ],
   "source": [
    "print(f'⁕ Hola {nombreUsuario}, este es un anilizador de texto ⁕')\n",
    "print(f'    Este fue tu texto ingresado: \\n  \"{textoBruto}\"')\n",
    "print('- - - - - - - - - - - - - - - - - - - - - -')\n",
    "print()\n",
    "print(f'Numero total de caracteres: {numCaracteres}')\n",
    "print(f'Numero de caracteres sin contar los espacios: {numCaracteres_sinEspacios}')\n",
    "print(f'Numero de vocales: {numVocales}')\n",
    "print()\n",
    "print(f'Numero de palabras: {numTotalPalabras}')\n",
    "print(f'Eliminando la primera palabra: \\n{palabrasRestantes}')\n",
    "print()\n",
    "print(f'Espacios reemplazados por guines(-): \\n\"{espaciosGuiones}\"')\n",
    "print()\n",
    "print(f'Intercambiar mayusculas por minusculas: \\n\"{switchLowerCaps}\"')\n",
    "print()\n",
    "\n",
    "print('Muchas gracias por usar nuestra aplicacion!!')"
   ]
  }
 ],
 "metadata": {
  "kernelspec": {
   "display_name": "Python 3 (ipykernel)",
   "language": "python",
   "name": "python3"
  },
  "language_info": {
   "codemirror_mode": {
    "name": "ipython",
    "version": 3
   },
   "file_extension": ".py",
   "mimetype": "text/x-python",
   "name": "python",
   "nbconvert_exporter": "python",
   "pygments_lexer": "ipython3",
   "version": "3.12.3"
  }
 },
 "nbformat": 4,
 "nbformat_minor": 5
}
