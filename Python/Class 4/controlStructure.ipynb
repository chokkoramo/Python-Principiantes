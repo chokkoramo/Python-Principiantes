{
 "cells": [
  {
   "cell_type": "markdown",
   "metadata": {},
   "source": [
    "# IF, ELSE & ELIF"
   ]
  },
  {
   "cell_type": "code",
   "execution_count": 2,
   "metadata": {},
   "outputs": [
    {
     "name": "stdout",
     "output_type": "stream",
     "text": [
      "Esta haciendo calor, la temperatura actual es de: 22\n"
     ]
    }
   ],
   "source": [
    "temperatura = 22\n",
    "\n",
    "if temperatura > 20:\n",
    "    print(f'Esta haciendo calor, la temperatura actual es de: {temperatura}')"
   ]
  },
  {
   "cell_type": "code",
   "execution_count": 7,
   "metadata": {},
   "outputs": [
    {
     "name": "stdout",
     "output_type": "stream",
     "text": [
      "La temperatura esta bajo cero: -4\n"
     ]
    }
   ],
   "source": [
    "temperatura = int(input('Dime la temperatura:'))\n",
    "\n",
    "if temperatura > 20:\n",
    "    print(f'Esta haciendo calor, la temperatura actual es de: {temperatura}')\n",
    "elif temperatura > 1:\n",
    "    print(f'Esta haciendo frio, la temperatura es de: {temperatura}')\n",
    "elif temperatura < 0:\n",
    "    print(f'La temperatura esta bajo cero: {temperatura}')"
   ]
  },
  {
   "cell_type": "code",
   "execution_count": 10,
   "metadata": {},
   "outputs": [
    {
     "name": "stdout",
     "output_type": "stream",
     "text": [
      "Laura esta en mi grupo de amigos\n"
     ]
    }
   ],
   "source": [
    "amigos = ['Laura', 'Caro', 'Santiago']\n",
    "nombre = input('Dime un nombre: ').capitalize()\n",
    "\n",
    "if nombre in amigos:\n",
    "    print(f'{nombre} esta en mi grupo de amigos')\n",
    "else:\n",
    "    print(f'{nombre} no esta en mi lista de amigos')"
   ]
  },
  {
   "cell_type": "code",
   "execution_count": null,
   "metadata": {},
   "outputs": [],
   "source": []
  }
 ],
 "metadata": {
  "kernelspec": {
   "display_name": "Python 3",
   "language": "python",
   "name": "python3"
  },
  "language_info": {
   "codemirror_mode": {
    "name": "ipython",
    "version": 3
   },
   "file_extension": ".py",
   "mimetype": "text/x-python",
   "name": "python",
   "nbconvert_exporter": "python",
   "pygments_lexer": "ipython3",
   "version": "3.12.6"
  }
 },
 "nbformat": 4,
 "nbformat_minor": 2
}
