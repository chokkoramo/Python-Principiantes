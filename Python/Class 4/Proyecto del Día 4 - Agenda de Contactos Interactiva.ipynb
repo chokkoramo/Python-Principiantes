{
 "cells": [
  {
   "cell_type": "markdown",
   "id": "0d153c56",
   "metadata": {},
   "source": [
    "# Proyecto del Día 4: Agenda de Contactos Interactiva\n",
    "\n",
    "### Objetivo\n",
    "Crear una agenda de contactos utilizando Python, aplicando los conceptos aprendidos sobre listas, tuplas, diccionarios, booleanos y estructuras de control.\n",
    "\n",
    "\n",
    "### Consigna\n",
    "Cada vez que inicies tu agenda, va a comenzar preguntándole al usuario cuál de estas opciones prefiere:\n",
    "1. **Añadir un contacto**: Crear un nuevo registro en la agenda (nombre, telefono).\n",
    "2. **Buscar un contacto**: Buscar un contacto por nombre y mostrar su teléfono, o un mensaje de error si no lo encuentra.\n",
    "3. **Editar un contacto**: Modificar teléfono de un contacto existente.\n",
    "4. **Eliminar un contacto**: Eliminar un contacto de la agenda (investiga los métodos disponibles para lograrlo)\n",
    "5. **Mostrar todos los contactos**: Mostrar todos los contactos guardados en la agenda.\n",
    "\n",
    "El usuario elegirá una de esas opciones, y el programa ejecutará el código correspondiente para procesar su pedido y mostrarle el resultado.\n",
    "\n",
    "\n",
    "### Notas y Ayudas\n",
    "- Debido a que vas a almacenar pares de datos (nombre y teléfono) ¿cuál crees que sería la mejor estructura de datos para guardarlos: **listas**, **tuplas** o **diccionarios**?\n",
    "- Algunas de las funcionalidades de tu agenda, pueden requerir que investigues algunos métodos que no hemos visto en las lecciones, pero que podrás descubrir con *type*, *dir* y *help*.\n",
    "<br>  \n",
    "<br>\n",
    "<br>"
   ]
  },
  {
   "cell_type": "markdown",
   "id": "c6c4ab9d",
   "metadata": {},
   "source": [
    "## Resolución"
   ]
  },
  {
   "cell_type": "markdown",
   "id": "cb507a52",
   "metadata": {},
   "source": [
    "Crea una agenda vacía"
   ]
  },
  {
   "cell_type": "code",
   "execution_count": 10,
   "id": "e9c026bd",
   "metadata": {},
   "outputs": [],
   "source": [
    "contacts = {}"
   ]
  },
  {
   "cell_type": "markdown",
   "id": "be7b6b93",
   "metadata": {},
   "source": [
    "En la siguiente celda, incluye el código para ejecutar las siguientes instrucciones:\n",
    "- Mostrar en pantalla las opciones\n",
    "- Pedirle al usuario que elija las opciones\n",
    "- Crear una estructura de control (*if*, *elif* y *else*) que ejecute diferentes bloques de código según las opciones elegidas."
   ]
  },
  {
   "cell_type": "code",
   "execution_count": 40,
   "id": "45fbcf91",
   "metadata": {},
   "outputs": [
    {
     "name": "stdout",
     "output_type": "stream",
     "text": [
      "Laura coincide con el telefono 31333\n",
      "Saliendo del programa.\n"
     ]
    }
   ],
   "source": [
    "while True:\n",
    "    option = int(input('''\n",
    "                       Elije una opcion \n",
    "                       (1: Agregar, \n",
    "                       2: Buscar, \n",
    "                       3: Modificar, \n",
    "                       4: Eliminar, \n",
    "                       5: Mostrar, \n",
    "                       6: Salir): \n",
    "                       '''))\n",
    "\n",
    "    if option == 1:\n",
    "        name = input('Ingresa el nombre: ').capitalize()\n",
    "        cellphone = int(input('Ingresa en numero de telefono: '))\n",
    "        contacts[name] = cellphone\n",
    "        print(f'Contacto {name} agregado con el número {cellphone}')\n",
    "    elif option == 2:\n",
    "        name_search = input('Ingrese el nombre a buscar: ').capitalize()\n",
    "        if name_search not in contacts:\n",
    "            print(f'{name_search} no encontrado')\n",
    "        else:\n",
    "            search_contact = contacts[name_search]\n",
    "            print(f'{name_search} coincide con el telefono {search_contact}')\n",
    "    elif option == 3:\n",
    "        name_search = input('Ingrese el nombre del contacto a modificar: ').capitalize()\n",
    "        if name_search not in contacts:\n",
    "            print(f'{name_search} no encontrado')\n",
    "        else:\n",
    "            search_contact = contacts[name_search]\n",
    "            print(f'Número actual: {search_contact}')\n",
    "            cellphone_update = int(input('Ingrese el nuevo numero: '))\n",
    "            contacts[name_search] = cellphone_update\n",
    "            print(f'El contacto {name_search} ahora tiene el numero: {contacts[name_search]}')\n",
    "    elif option == 4:\n",
    "        print(contacts)\n",
    "        name_pop = input('Ingrese el contacto a eliminar: ').capitalize()\n",
    "        if name_pop not in contacts:\n",
    "            print(f'{name_pop} no encontrado')\n",
    "        else:\n",
    "            contacts.pop(name_pop)\n",
    "            print(f'Contacto eliminado con exito! \\n{contacts}')\n",
    "    elif option == 5:\n",
    "        print(f'Estos son tus contactos guardados: \\n{contacts}')\n",
    "    elif option == 6:\n",
    "        print('Saliendo del programa.')\n",
    "        break\n",
    "    else:\n",
    "        print('Opción no válida, por favor elija una opción del 1 al 6.')"
   ]
  }
 ],
 "metadata": {
  "kernelspec": {
   "display_name": "Python 3 (ipykernel)",
   "language": "python",
   "name": "python3"
  },
  "language_info": {
   "codemirror_mode": {
    "name": "ipython",
    "version": 3
   },
   "file_extension": ".py",
   "mimetype": "text/x-python",
   "name": "python",
   "nbconvert_exporter": "python",
   "pygments_lexer": "ipython3",
   "version": "3.12.3"
  }
 },
 "nbformat": 4,
 "nbformat_minor": 5
}
