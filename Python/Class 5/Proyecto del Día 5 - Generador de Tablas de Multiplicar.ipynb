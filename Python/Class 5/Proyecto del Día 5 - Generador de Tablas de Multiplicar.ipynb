{
 "cells": [
  {
   "cell_type": "markdown",
   "id": "a948c51c",
   "metadata": {},
   "source": [
    "# Proyecto del Día 5: Generador de Tablas de Multiplicar"
   ]
  },
  {
   "cell_type": "markdown",
   "id": "e8159936",
   "metadata": {},
   "source": [
    "\n",
    "Este proyecto de Python permite al usuario generar tablas de multiplicar para cualquier número y hasta un límite específico de multiplicación.\n",
    "\n",
    "## Consigna\n",
    "Vas a crear un código que le pida al usuario un **número para multiplicar**, y un **número límite** para establecer hasta cuánto lo vamos a multiplicar.\n",
    "\n",
    "Por ejemplo, si el usuario elige:\n",
    "- Número: 5\n",
    "- Límite: 3\n",
    "\n",
    "El programa le devolverá:\n",
    "```\n",
    "5 x 1 = 5\n",
    "5 x 2 = 10\n",
    "5 x 3 = 15\n",
    "````\n",
    "\n",
    "Cuando el programa termine de mostrar los resultados, debe preguntarle al usuario si desea calcular otra tabla, o finalizar el programa.\n",
    "\n",
    "**Recomendaciones**:\n",
    "- Crear una función que se encargue de calcular las tablas\n",
    "- Crear una función global que se encargue de:\n",
    "    - Solicitar al usuario un número para generar su tabla de multiplicar.\n",
    "    - Pedir el límite hasta donde se quiere llegar en la multiplicación.\n",
    "    - Llamar a la función que crea las tablas\n",
    "    \n",
    "- Emplear bucles `for` y la función `range` para la lógica de la tabla.\n",
    "- Implementar un bucle `while` para que el usuario pueda generar múltiples tablas o salir del programa.\n"
   ]
  },
  {
   "cell_type": "code",
   "execution_count": 45,
   "id": "39ac3e8e",
   "metadata": {},
   "outputs": [],
   "source": [
    "def calcular_tablas(num, limite):\n",
    "    for n in range(0,limite+1):\n",
    "        resultado = num*n\n",
    "        print(f'{num} * {n} = {resultado} \\n')"
   ]
  },
  {
   "cell_type": "code",
   "execution_count": 49,
   "id": "71aa9fd1",
   "metadata": {},
   "outputs": [],
   "source": [
    "def solicitar_numeros():\n",
    "    nombre = input('Como te llamas?')\n",
    "    print(f'Espero te encuentres bien {nombre} !!!')\n",
    "    while True:\n",
    "        print('1) Para crear una nueva tabla \\n2) Para salir\\n')\n",
    "        opcion = int(input('Ingrese una opcion: '))\n",
    "        if opcion == 1:\n",
    "            num = int(input('Ingrese un numero: '))\n",
    "            limite = int(input('Ingrese el limite: '))\n",
    "            calcular_tablas(num, limite)\n",
    "            continue\n",
    "        if opcion == 2:\n",
    "            print(f'Ten un lindo dia {nombre} !!!')\n",
    "            break\n",
    "        elif opcion != 1 and opcion != 2:\n",
    "            print('Ingresa una opcion valida!')"
   ]
  },
  {
   "cell_type": "code",
   "execution_count": 52,
   "id": "23ab2111",
   "metadata": {},
   "outputs": [
    {
     "name": "stdout",
     "output_type": "stream",
     "text": [
      "Espero te encuentres bien Laura !!!\n",
      "1) Para crear una nueva tabla \n",
      "2) Para salir\n",
      "\n",
      "5 * 0 = 0 \n",
      "\n",
      "5 * 1 = 5 \n",
      "\n",
      "5 * 2 = 10 \n",
      "\n",
      "5 * 3 = 15 \n",
      "\n",
      "5 * 4 = 20 \n",
      "\n",
      "5 * 5 = 25 \n",
      "\n",
      "5 * 6 = 30 \n",
      "\n",
      "5 * 7 = 35 \n",
      "\n",
      "5 * 8 = 40 \n",
      "\n",
      "5 * 9 = 45 \n",
      "\n",
      "5 * 10 = 50 \n",
      "\n",
      "1) Para crear una nueva tabla \n",
      "2) Para salir\n",
      "\n",
      "Ten un lindo dia Laura !!!\n"
     ]
    }
   ],
   "source": [
    "solicitar_numeros()"
   ]
  }
 ],
 "metadata": {
  "kernelspec": {
   "display_name": "Python 3 (ipykernel)",
   "language": "python",
   "name": "python3"
  },
  "language_info": {
   "codemirror_mode": {
    "name": "ipython",
    "version": 3
   },
   "file_extension": ".py",
   "mimetype": "text/x-python",
   "name": "python",
   "nbconvert_exporter": "python",
   "pygments_lexer": "ipython3",
   "version": "3.12.6"
  }
 },
 "nbformat": 4,
 "nbformat_minor": 5
}
