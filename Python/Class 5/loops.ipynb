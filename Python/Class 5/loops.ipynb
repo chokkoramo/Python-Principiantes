{
 "cells": [
  {
   "cell_type": "markdown",
   "metadata": {},
   "source": [
    "# FOR & WHILE"
   ]
  },
  {
   "cell_type": "code",
   "execution_count": 2,
   "metadata": {},
   "outputs": [],
   "source": [
    "# for item in  secuencia:\n",
    "#     codigo a ejecutar "
   ]
  },
  {
   "cell_type": "code",
   "execution_count": 3,
   "metadata": {},
   "outputs": [
    {
     "name": "stdout",
     "output_type": "stream",
     "text": [
      "0\n",
      "1\n",
      "2\n",
      "3\n",
      "4\n",
      "5\n"
     ]
    }
   ],
   "source": [
    "for num in [0,1,2,3,4,5]:\n",
    "    print(num)"
   ]
  },
  {
   "cell_type": "code",
   "execution_count": 4,
   "metadata": {},
   "outputs": [
    {
     "name": "stdout",
     "output_type": "stream",
     "text": [
      "p\n",
      "y\n",
      "t\n",
      "h\n",
      "o\n",
      "n\n"
     ]
    }
   ],
   "source": [
    "for letra in 'python':\n",
    "    print(letra)"
   ]
  },
  {
   "cell_type": "code",
   "execution_count": 5,
   "metadata": {},
   "outputs": [
    {
     "name": "stdout",
     "output_type": "stream",
     "text": [
      "Argentina tiene 9 letras\n",
      "Colombia tiene 8 letras\n",
      "Peru tiene 4 letras\n",
      "Mexico tiene 6 letras\n"
     ]
    }
   ],
   "source": [
    "paises = ['Argentina', 'Colombia', 'Peru', 'Mexico']\n",
    "\n",
    "for p in paises:\n",
    "    largo = len(p)\n",
    "    print(f'{p} tiene {largo} letras')"
   ]
  },
  {
   "cell_type": "code",
   "execution_count": 6,
   "metadata": {},
   "outputs": [
    {
     "name": "stdout",
     "output_type": "stream",
     "text": [
      "Argentina tiene nombre largo\n",
      "Colombia tiene nombre largo\n",
      "Peru tiene nombre corto\n",
      "Mexico tiene nombre corto\n"
     ]
    }
   ],
   "source": [
    "for p in paises:\n",
    "    if len(p) > 6:\n",
    "        print(f'{p} tiene nombre largo')\n",
    "    else:\n",
    "        print(f'{p} tiene nombre corto')"
   ]
  },
  {
   "cell_type": "code",
   "execution_count": 8,
   "metadata": {},
   "outputs": [
    {
     "name": "stdout",
     "output_type": "stream",
     "text": [
      "sombrero rojo\n",
      "pantalon rojo\n",
      "zapato rojo\n",
      "sombrero azul\n",
      "pantalon azul\n",
      "zapato azul\n",
      "sombrero verde\n",
      "pantalon verde\n",
      "zapato verde\n"
     ]
    }
   ],
   "source": [
    "colores = ['rojo', 'azul', 'verde']\n",
    "prendas = ['sombrero', 'pantalon', 'zapato']\n",
    "\n",
    "for color in colores:\n",
    "    for prenda in prendas:\n",
    "        print(prenda, color)"
   ]
  },
  {
   "cell_type": "code",
   "execution_count": 12,
   "metadata": {},
   "outputs": [
    {
     "name": "stdout",
     "output_type": "stream",
     "text": [
      "Francia\n",
      "Alemania\n",
      "España\n",
      "Italia\n"
     ]
    }
   ],
   "source": [
    "paises = ['Francia', 'Alemania', 'España', 'Italia', 'Chile']\n",
    "\n",
    "for pais in paises:\n",
    "    if pais.__contains__('a'):\n",
    "        print(pais)\n",
    "    "
   ]
  },
  {
   "cell_type": "markdown",
   "metadata": {},
   "source": [
    "# Funcion range()"
   ]
  },
  {
   "cell_type": "code",
   "execution_count": 17,
   "metadata": {},
   "outputs": [
    {
     "name": "stdout",
     "output_type": "stream",
     "text": [
      "0\n",
      "1\n",
      "2\n",
      "3\n",
      "4\n",
      "5\n",
      "6\n"
     ]
    }
   ],
   "source": [
    "miRango = range(7)\n",
    "\n",
    "for n in miRango:\n",
    "    print(n)"
   ]
  },
  {
   "cell_type": "code",
   "execution_count": 19,
   "metadata": {},
   "outputs": [
    {
     "name": "stdout",
     "output_type": "stream",
     "text": [
      "5\n",
      "6\n",
      "7\n",
      "8\n",
      "9\n"
     ]
    }
   ],
   "source": [
    "miRango = range(5, 10)\n",
    "\n",
    "for n in miRango:\n",
    "    print(n)"
   ]
  },
  {
   "cell_type": "code",
   "execution_count": 20,
   "metadata": {},
   "outputs": [
    {
     "name": "stdout",
     "output_type": "stream",
     "text": [
      "5\n",
      "7\n",
      "9\n"
     ]
    }
   ],
   "source": [
    "miRango = range(5, 10,2)\n",
    "\n",
    "for n in miRango:\n",
    "    print(n)"
   ]
  },
  {
   "cell_type": "code",
   "execution_count": 21,
   "metadata": {},
   "outputs": [
    {
     "name": "stdout",
     "output_type": "stream",
     "text": [
      "0\n",
      "1\n",
      "2\n",
      "3\n",
      "4\n",
      "5\n"
     ]
    }
   ],
   "source": [
    "palabra = 'python'\n",
    "\n",
    "for n in range(len(palabra)):\n",
    "    print(n)"
   ]
  },
  {
   "cell_type": "code",
   "execution_count": 39,
   "metadata": {},
   "outputs": [
    {
     "name": "stdout",
     "output_type": "stream",
     "text": [
      "Indice 0 : a\n",
      "Indice 1 : p\n",
      "Indice 2 : r\n",
      "Indice 3 : e\n",
      "Indice 4 : n\n",
      "Indice 5 : d\n",
      "Indice 6 : i\n",
      "Indice 7 : z\n",
      "Indice 8 : a\n",
      "Indice 9 : j\n",
      "Indice 10 : e\n"
     ]
    }
   ],
   "source": [
    "cadena = \"aprendizaje\"\n",
    "\n",
    "for i in range(len(cadena)):\n",
    "    print(f'Indice {i} : {cadena[i]}') "
   ]
  },
  {
   "cell_type": "markdown",
   "metadata": {},
   "source": [
    "# Loop While"
   ]
  },
  {
   "cell_type": "code",
   "execution_count": 43,
   "metadata": {},
   "outputs": [
    {
     "name": "stdout",
     "output_type": "stream",
     "text": [
      "0\n",
      "1\n",
      "2\n",
      "3\n",
      "4\n",
      "5\n"
     ]
    }
   ],
   "source": [
    "contador = 0\n",
    "\n",
    "while contador <= 5:\n",
    "    print(contador)\n",
    "    contador += 1"
   ]
  },
  {
   "cell_type": "markdown",
   "metadata": {},
   "source": [
    "# Break & Continue"
   ]
  },
  {
   "cell_type": "code",
   "execution_count": 45,
   "metadata": {},
   "outputs": [
    {
     "name": "stdout",
     "output_type": "stream",
     "text": [
      "1\n",
      "2\n",
      "3\n",
      "4\n",
      "6\n",
      "7\n"
     ]
    }
   ],
   "source": [
    "contador = 0\n",
    "\n",
    "while contador < 10:\n",
    "    contador += 1\n",
    "    if contador == 5:\n",
    "        continue    # INTERRUMPE EL LOOP Y PASA AL SIGUIENTE\n",
    "    if contador == 8:\n",
    "        break   # ROMPE EL CICLO\n",
    "    print(contador)"
   ]
  },
  {
   "cell_type": "code",
   "execution_count": null,
   "metadata": {},
   "outputs": [],
   "source": []
  }
 ],
 "metadata": {
  "kernelspec": {
   "display_name": "Python 3",
   "language": "python",
   "name": "python3"
  },
  "language_info": {
   "codemirror_mode": {
    "name": "ipython",
    "version": 3
   },
   "file_extension": ".py",
   "mimetype": "text/x-python",
   "name": "python",
   "nbconvert_exporter": "python",
   "pygments_lexer": "ipython3",
   "version": "3.12.6"
  }
 },
 "nbformat": 4,
 "nbformat_minor": 2
}
